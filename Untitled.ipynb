{
 "cells": [
  {
   "cell_type": "code",
   "execution_count": 9,
   "id": "a7e2b8c2-919f-4a67-8872-db9f33f15e60",
   "metadata": {},
   "outputs": [
    {
     "name": "stdout",
     "output_type": "stream",
     "text": [
      "ML_LIB: xgboost\n"
     ]
    }
   ],
   "source": [
    "# Cell 1 - imports & config\n",
    "import os\n",
    "import gc\n",
    "import time\n",
    "import joblib\n",
    "import numpy as np\n",
    "import pandas as pd\n",
    "from sklearn.model_selection import train_test_split, RandomizedSearchCV\n",
    "from sklearn.preprocessing import LabelEncoder\n",
    "from sklearn.metrics import roc_auc_score, log_loss, accuracy_score\n",
    "from sklearn.impute import SimpleImputer\n",
    "\n",
    "# Try to import xgboost, fallback to lightgbm if necessary\n",
    "try:\n",
    "    from xgboost import XGBClassifier\n",
    "    ML_LIB = \"xgboost\"\n",
    "except Exception:\n",
    "    try:\n",
    "        import lightgbm as lgb\n",
    "        ML_LIB = \"lightgbm\"\n",
    "    except Exception:\n",
    "        raise ImportError(\"Install xgboost or lightgbm before running notebook.\")\n",
    "\n",
    "print(\"ML_LIB:\", ML_LIB)\n",
    "\n",
    "# Paths\n",
    "DATA_PATH = \"train.gz\"   # adjust if your file is elsewhere\n",
    "OUT_DIR = \"../backend\"\n",
    "os.makedirs(OUT_DIR, exist_ok=True)\n",
    "\n",
    "# How many rows to use (reduce if memory limited)\n",
    "NROWS = 1_000_000  # change to 200_000 if memory constrained\n",
    "RANDOM_STATE = 42\n"
   ]
  },
  {
   "cell_type": "code",
   "execution_count": 10,
   "id": "fa616fe0-535b-41f9-aec6-dd15b798ece0",
   "metadata": {},
   "outputs": [
    {
     "name": "stdout",
     "output_type": "stream",
     "text": [
      "Loading data...\n",
      "(1000000, 24)\n"
     ]
    },
    {
     "data": {
      "text/html": [
       "<div>\n",
       "<style scoped>\n",
       "    .dataframe tbody tr th:only-of-type {\n",
       "        vertical-align: middle;\n",
       "    }\n",
       "\n",
       "    .dataframe tbody tr th {\n",
       "        vertical-align: top;\n",
       "    }\n",
       "\n",
       "    .dataframe thead th {\n",
       "        text-align: right;\n",
       "    }\n",
       "</style>\n",
       "<table border=\"1\" class=\"dataframe\">\n",
       "  <thead>\n",
       "    <tr style=\"text-align: right;\">\n",
       "      <th></th>\n",
       "      <th>id</th>\n",
       "      <th>click</th>\n",
       "      <th>hour</th>\n",
       "      <th>C1</th>\n",
       "      <th>banner_pos</th>\n",
       "      <th>site_id</th>\n",
       "      <th>site_domain</th>\n",
       "      <th>site_category</th>\n",
       "      <th>app_id</th>\n",
       "      <th>app_domain</th>\n",
       "      <th>...</th>\n",
       "      <th>device_type</th>\n",
       "      <th>device_conn_type</th>\n",
       "      <th>C14</th>\n",
       "      <th>C15</th>\n",
       "      <th>C16</th>\n",
       "      <th>C17</th>\n",
       "      <th>C18</th>\n",
       "      <th>C19</th>\n",
       "      <th>C20</th>\n",
       "      <th>C21</th>\n",
       "    </tr>\n",
       "  </thead>\n",
       "  <tbody>\n",
       "    <tr>\n",
       "      <th>0</th>\n",
       "      <td>1.000009e+18</td>\n",
       "      <td>0</td>\n",
       "      <td>14102100</td>\n",
       "      <td>1005</td>\n",
       "      <td>0</td>\n",
       "      <td>1fbe01fe</td>\n",
       "      <td>f3845767</td>\n",
       "      <td>28905ebd</td>\n",
       "      <td>ecad2386</td>\n",
       "      <td>7801e8d9</td>\n",
       "      <td>...</td>\n",
       "      <td>1</td>\n",
       "      <td>2</td>\n",
       "      <td>15706</td>\n",
       "      <td>320</td>\n",
       "      <td>50</td>\n",
       "      <td>1722</td>\n",
       "      <td>0</td>\n",
       "      <td>35</td>\n",
       "      <td>-1</td>\n",
       "      <td>79</td>\n",
       "    </tr>\n",
       "    <tr>\n",
       "      <th>1</th>\n",
       "      <td>1.000017e+19</td>\n",
       "      <td>0</td>\n",
       "      <td>14102100</td>\n",
       "      <td>1005</td>\n",
       "      <td>0</td>\n",
       "      <td>1fbe01fe</td>\n",
       "      <td>f3845767</td>\n",
       "      <td>28905ebd</td>\n",
       "      <td>ecad2386</td>\n",
       "      <td>7801e8d9</td>\n",
       "      <td>...</td>\n",
       "      <td>1</td>\n",
       "      <td>0</td>\n",
       "      <td>15704</td>\n",
       "      <td>320</td>\n",
       "      <td>50</td>\n",
       "      <td>1722</td>\n",
       "      <td>0</td>\n",
       "      <td>35</td>\n",
       "      <td>100084</td>\n",
       "      <td>79</td>\n",
       "    </tr>\n",
       "    <tr>\n",
       "      <th>2</th>\n",
       "      <td>1.000037e+19</td>\n",
       "      <td>0</td>\n",
       "      <td>14102100</td>\n",
       "      <td>1005</td>\n",
       "      <td>0</td>\n",
       "      <td>1fbe01fe</td>\n",
       "      <td>f3845767</td>\n",
       "      <td>28905ebd</td>\n",
       "      <td>ecad2386</td>\n",
       "      <td>7801e8d9</td>\n",
       "      <td>...</td>\n",
       "      <td>1</td>\n",
       "      <td>0</td>\n",
       "      <td>15704</td>\n",
       "      <td>320</td>\n",
       "      <td>50</td>\n",
       "      <td>1722</td>\n",
       "      <td>0</td>\n",
       "      <td>35</td>\n",
       "      <td>100084</td>\n",
       "      <td>79</td>\n",
       "    </tr>\n",
       "    <tr>\n",
       "      <th>3</th>\n",
       "      <td>1.000064e+19</td>\n",
       "      <td>0</td>\n",
       "      <td>14102100</td>\n",
       "      <td>1005</td>\n",
       "      <td>0</td>\n",
       "      <td>1fbe01fe</td>\n",
       "      <td>f3845767</td>\n",
       "      <td>28905ebd</td>\n",
       "      <td>ecad2386</td>\n",
       "      <td>7801e8d9</td>\n",
       "      <td>...</td>\n",
       "      <td>1</td>\n",
       "      <td>0</td>\n",
       "      <td>15706</td>\n",
       "      <td>320</td>\n",
       "      <td>50</td>\n",
       "      <td>1722</td>\n",
       "      <td>0</td>\n",
       "      <td>35</td>\n",
       "      <td>100084</td>\n",
       "      <td>79</td>\n",
       "    </tr>\n",
       "    <tr>\n",
       "      <th>4</th>\n",
       "      <td>1.000068e+19</td>\n",
       "      <td>0</td>\n",
       "      <td>14102100</td>\n",
       "      <td>1005</td>\n",
       "      <td>1</td>\n",
       "      <td>fe8cc448</td>\n",
       "      <td>9166c161</td>\n",
       "      <td>0569f928</td>\n",
       "      <td>ecad2386</td>\n",
       "      <td>7801e8d9</td>\n",
       "      <td>...</td>\n",
       "      <td>1</td>\n",
       "      <td>0</td>\n",
       "      <td>18993</td>\n",
       "      <td>320</td>\n",
       "      <td>50</td>\n",
       "      <td>2161</td>\n",
       "      <td>0</td>\n",
       "      <td>35</td>\n",
       "      <td>-1</td>\n",
       "      <td>157</td>\n",
       "    </tr>\n",
       "  </tbody>\n",
       "</table>\n",
       "<p>5 rows × 24 columns</p>\n",
       "</div>"
      ],
      "text/plain": [
       "             id  click      hour    C1  banner_pos   site_id site_domain  \\\n",
       "0  1.000009e+18      0  14102100  1005           0  1fbe01fe    f3845767   \n",
       "1  1.000017e+19      0  14102100  1005           0  1fbe01fe    f3845767   \n",
       "2  1.000037e+19      0  14102100  1005           0  1fbe01fe    f3845767   \n",
       "3  1.000064e+19      0  14102100  1005           0  1fbe01fe    f3845767   \n",
       "4  1.000068e+19      0  14102100  1005           1  fe8cc448    9166c161   \n",
       "\n",
       "  site_category    app_id app_domain  ... device_type device_conn_type    C14  \\\n",
       "0      28905ebd  ecad2386   7801e8d9  ...           1                2  15706   \n",
       "1      28905ebd  ecad2386   7801e8d9  ...           1                0  15704   \n",
       "2      28905ebd  ecad2386   7801e8d9  ...           1                0  15704   \n",
       "3      28905ebd  ecad2386   7801e8d9  ...           1                0  15706   \n",
       "4      0569f928  ecad2386   7801e8d9  ...           1                0  18993   \n",
       "\n",
       "   C15  C16   C17  C18  C19     C20  C21  \n",
       "0  320   50  1722    0   35      -1   79  \n",
       "1  320   50  1722    0   35  100084   79  \n",
       "2  320   50  1722    0   35  100084   79  \n",
       "3  320   50  1722    0   35  100084   79  \n",
       "4  320   50  2161    0   35      -1  157  \n",
       "\n",
       "[5 rows x 24 columns]"
      ]
     },
     "execution_count": 10,
     "metadata": {},
     "output_type": "execute_result"
    }
   ],
   "source": [
    "# Cell 2 - load data (reads gz directly). Use chunks if low memory.\n",
    "print(\"Loading data...\")\n",
    "if NROWS is None:\n",
    "    df = pd.read_csv(DATA_PATH, compression=\"gzip\")\n",
    "else:\n",
    "    df = pd.read_csv(DATA_PATH, compression=\"gzip\", nrows=NROWS)\n",
    "\n",
    "print(df.shape)\n",
    "df.head()\n"
   ]
  },
  {
   "cell_type": "code",
   "execution_count": 11,
   "id": "14324581-cd63-454b-b8c6-0bb21d97b55f",
   "metadata": {},
   "outputs": [
    {
     "name": "stdout",
     "output_type": "stream",
     "text": [
      "<class 'pandas.core.frame.DataFrame'>\n",
      "RangeIndex: 1000000 entries, 0 to 999999\n",
      "Data columns (total 24 columns):\n",
      " #   Column            Non-Null Count    Dtype  \n",
      "---  ------            --------------    -----  \n",
      " 0   id                1000000 non-null  float64\n",
      " 1   click             1000000 non-null  int64  \n",
      " 2   hour              1000000 non-null  int64  \n",
      " 3   C1                1000000 non-null  int64  \n",
      " 4   banner_pos        1000000 non-null  int64  \n",
      " 5   site_id           1000000 non-null  object \n",
      " 6   site_domain       1000000 non-null  object \n",
      " 7   site_category     1000000 non-null  object \n",
      " 8   app_id            1000000 non-null  object \n",
      " 9   app_domain        1000000 non-null  object \n",
      " 10  app_category      1000000 non-null  object \n",
      " 11  device_id         1000000 non-null  object \n",
      " 12  device_ip         1000000 non-null  object \n",
      " 13  device_model      1000000 non-null  object \n",
      " 14  device_type       1000000 non-null  int64  \n",
      " 15  device_conn_type  1000000 non-null  int64  \n",
      " 16  C14               1000000 non-null  int64  \n",
      " 17  C15               1000000 non-null  int64  \n",
      " 18  C16               1000000 non-null  int64  \n",
      " 19  C17               1000000 non-null  int64  \n",
      " 20  C18               1000000 non-null  int64  \n",
      " 21  C19               1000000 non-null  int64  \n",
      " 22  C20               1000000 non-null  int64  \n",
      " 23  C21               1000000 non-null  int64  \n",
      "dtypes: float64(1), int64(14), object(9)\n",
      "memory usage: 183.1+ MB\n",
      "None\n",
      "Target distribution:\n",
      "click\n",
      "0    0.839781\n",
      "1    0.160219\n",
      "Name: proportion, dtype: float64\n"
     ]
    }
   ],
   "source": [
    "# Cell 3 - quick EDA\n",
    "print(df.info())\n",
    "print(\"Target distribution:\")\n",
    "print(df['click'].value_counts(normalize=True))\n"
   ]
  },
  {
   "cell_type": "code",
   "execution_count": 12,
   "id": "3b529691-4d97-462d-9e26-991f6fd074d0",
   "metadata": {},
   "outputs": [
    {
     "name": "stdout",
     "output_type": "stream",
     "text": [
      "Categorical columns: ['site_id', 'site_domain', 'site_category', 'app_id', 'app_domain', 'app_category', 'device_id', 'device_ip', 'device_model']\n",
      "Numeric columns: ['C1', 'banner_pos', 'device_type', 'device_conn_type', 'C14', 'C15', 'C16', 'C17', 'C18', 'C19', 'C20', 'C21', 'hour_of_day', 'dayofweek']\n"
     ]
    }
   ],
   "source": [
    "# Cell 4 - preprocessing & feature engineering\n",
    "# Drop id (not useful)\n",
    "if 'id' in df.columns:\n",
    "    df = df.drop(columns=['id'])\n",
    "\n",
    "# Convert hour (YYMMDDHH) -> datetime, extract hour/dayofweek\n",
    "df['hour'] = pd.to_datetime(df['hour'], format='%y%m%d%H', errors='coerce')\n",
    "df['hour_of_day'] = df['hour'].dt.hour.fillna(0).astype(int)\n",
    "df['dayofweek'] = df['hour'].dt.dayofweek.fillna(0).astype(int)\n",
    "df = df.drop(columns=['hour'])  # keep engineered ones\n",
    "\n",
    "# Option: reduce cardinality for extremely high-card columns (device_ip, device_id)\n",
    "# we'll keep them but encode later; for demo it's okay\n",
    "\n",
    "# Make list of categorical string cols we need to encode\n",
    "cat_cols = df.select_dtypes(include=['object']).columns.tolist()\n",
    "print(\"Categorical columns:\", cat_cols)\n",
    "\n",
    "# Numeric columns (keep as is)\n",
    "num_cols = [c for c in df.columns if c not in cat_cols + ['click']]\n",
    "print(\"Numeric columns:\", num_cols)\n"
   ]
  },
  {
   "cell_type": "code",
   "execution_count": 14,
   "id": "bfdaaa05-f875-45cf-996a-73b89aec41c3",
   "metadata": {},
   "outputs": [
    {
     "name": "stdout",
     "output_type": "stream",
     "text": [
      "Saved encoders to: ../backend\\encoders.joblib\n"
     ]
    }
   ],
   "source": [
    "# Cell 5 - label encoding (fit & save encoders)\n",
    "encoders = {}\n",
    "for col in cat_cols:\n",
    "    le = LabelEncoder()\n",
    "    # convert to str to avoid NaN issues\n",
    "    df[col] = df[col].astype(str).fillna(\"NA\")\n",
    "    le.fit(df[col].unique().tolist())\n",
    "    df[col] = le.transform(df[col])\n",
    "    encoders[col] = le\n",
    "\n",
    "# Save encoders\n",
    "joblib.dump(encoders, os.path.join(OUT_DIR, \"encoders.joblib\"))\n",
    "print(\"Saved encoders to:\", os.path.join(OUT_DIR, \"encoders.joblib\"))\n"
   ]
  },
  {
   "cell_type": "code",
   "execution_count": 15,
   "id": "4a36460a-b344-4651-bf58-800384d0e289",
   "metadata": {},
   "outputs": [
    {
     "name": "stdout",
     "output_type": "stream",
     "text": [
      "Train shape: (800000, 23) Test shape: (200000, 23)\n"
     ]
    }
   ],
   "source": [
    "# Cell 6 - prepare X, y, train-test split\n",
    "features = [c for c in df.columns if c != 'click']\n",
    "X = df[features]\n",
    "y = df['click']\n",
    "\n",
    "# Free some memory if needed\n",
    "del df\n",
    "gc.collect()\n",
    "\n",
    "X_train, X_test, y_train, y_test = train_test_split(\n",
    "    X, y, test_size=0.2, random_state=RANDOM_STATE, stratify=y\n",
    ")\n",
    "\n",
    "print(\"Train shape:\", X_train.shape, \"Test shape:\", X_test.shape)\n"
   ]
  },
  {
   "cell_type": "code",
   "execution_count": 16,
   "id": "ba8df377-fbb6-4e98-a8d0-fd04597e5571",
   "metadata": {},
   "outputs": [
    {
     "name": "stdout",
     "output_type": "stream",
     "text": [
      "Training baseline model...\n"
     ]
    },
    {
     "name": "stderr",
     "output_type": "stream",
     "text": [
      "C:\\Users\\Saniya Pathan\\anaconda3\\Lib\\site-packages\\xgboost\\training.py:183: UserWarning: [22:46:15] WARNING: C:\\actions-runner\\_work\\xgboost\\xgboost\\src\\learner.cc:738: \n",
      "Parameters: { \"use_label_encoder\" } are not used.\n",
      "\n",
      "  bst.update(dtrain, iteration=i, fobj=obj)\n"
     ]
    },
    {
     "name": "stdout",
     "output_type": "stream",
     "text": [
      "Done in 5.633976936340332 seconds.\n",
      "AUC: 0.7557556427412129\n",
      "LogLoss: 0.38099316674781003\n"
     ]
    }
   ],
   "source": [
    "# Cell 7 - quick baseline training (to ensure everything works)\n",
    "if ML_LIB == \"xgboost\":\n",
    "    model = XGBClassifier(\n",
    "        n_estimators=100,\n",
    "        max_depth=6,\n",
    "        learning_rate=0.1,\n",
    "        subsample=0.8,\n",
    "        colsample_bytree=0.8,\n",
    "        use_label_encoder=False,\n",
    "        eval_metric=\"logloss\",\n",
    "        random_state=RANDOM_STATE\n",
    "    )\n",
    "else:\n",
    "    model = lgb.LGBMClassifier(\n",
    "        n_estimators=100,\n",
    "        max_depth=6,\n",
    "        learning_rate=0.1,\n",
    "        num_leaves=31,\n",
    "        random_state=RANDOM_STATE\n",
    "    )\n",
    "\n",
    "print(\"Training baseline model...\")\n",
    "t0 = time.time()\n",
    "model.fit(X_train, y_train)\n",
    "print(\"Done in\", time.time() - t0, \"seconds.\")\n",
    "\n",
    "# Eval\n",
    "y_proba = model.predict_proba(X_test)[:, 1]\n",
    "print(\"AUC:\", roc_auc_score(y_test, y_proba))\n",
    "print(\"LogLoss:\", log_loss(y_test, y_proba))\n"
   ]
  },
  {
   "cell_type": "code",
   "execution_count": 17,
   "id": "2a4d248d-cdca-47be-9195-81234938ff88",
   "metadata": {},
   "outputs": [
    {
     "name": "stdout",
     "output_type": "stream",
     "text": [
      "Starting RandomizedSearchCV (this can take time)...\n",
      "Fitting 3 folds for each of 8 candidates, totalling 24 fits\n"
     ]
    },
    {
     "name": "stderr",
     "output_type": "stream",
     "text": [
      "C:\\Users\\Saniya Pathan\\anaconda3\\Lib\\site-packages\\xgboost\\training.py:183: UserWarning: [22:50:29] WARNING: C:\\actions-runner\\_work\\xgboost\\xgboost\\src\\learner.cc:738: \n",
      "Parameters: { \"use_label_encoder\" } are not used.\n",
      "\n",
      "  bst.update(dtrain, iteration=i, fobj=obj)\n"
     ]
    },
    {
     "name": "stdout",
     "output_type": "stream",
     "text": [
      "Best params: {'subsample': 0.8, 'n_estimators': 200, 'max_depth': 8, 'learning_rate': 0.1, 'colsample_bytree': 1.0}\n",
      "Best CV AUC: 0.7609857128671768\n"
     ]
    }
   ],
   "source": [
    "# Cell 8 - Randomized search (small budget for demo)\n",
    "# NOTE: this is small — increase n_iter for better search but more time\n",
    "param_dist = {\n",
    "    'n_estimators': [100, 200, 400],\n",
    "    'learning_rate': [0.01, 0.05, 0.1],\n",
    "    'max_depth': [4, 6, 8],\n",
    "    'subsample': [0.6, 0.8, 1.0],\n",
    "    'colsample_bytree': [0.6, 0.8, 1.0]\n",
    "}\n",
    "\n",
    "if ML_LIB == \"xgboost\":\n",
    "    base = XGBClassifier(use_label_encoder=False, eval_metric=\"logloss\", random_state=RANDOM_STATE)\n",
    "else:\n",
    "    base = lgb.LGBMClassifier(random_state=RANDOM_STATE)\n",
    "\n",
    "rs = RandomizedSearchCV(base, param_distributions=param_dist, n_iter=8, scoring='roc_auc', cv=3, verbose=2, n_jobs=-1, random_state=RANDOM_STATE)\n",
    "print(\"Starting RandomizedSearchCV (this can take time)...\")\n",
    "rs.fit(X_train, y_train)\n",
    "print(\"Best params:\", rs.best_params_)\n",
    "print(\"Best CV AUC:\", rs.best_score_)\n",
    "\n",
    "# use best estimator\n",
    "best_model = rs.best_estimator_\n"
   ]
  },
  {
   "cell_type": "code",
   "execution_count": 20,
   "id": "aecd16b9-dbe7-4307-a3b7-b60a360bd7c0",
   "metadata": {},
   "outputs": [
    {
     "name": "stdout",
     "output_type": "stream",
     "text": [
      "Retraining final model (fit on X_train)...\n"
     ]
    },
    {
     "name": "stderr",
     "output_type": "stream",
     "text": [
      "C:\\Users\\Saniya Pathan\\anaconda3\\Lib\\site-packages\\xgboost\\training.py:183: UserWarning: [22:50:53] WARNING: C:\\actions-runner\\_work\\xgboost\\xgboost\\src\\learner.cc:738: \n",
      "Parameters: { \"use_label_encoder\" } are not used.\n",
      "\n",
      "  bst.update(dtrain, iteration=i, fobj=obj)\n"
     ]
    },
    {
     "name": "stdout",
     "output_type": "stream",
     "text": [
      "Final AUC: 0.7671162589181011\n",
      "Final LogLoss: 0.3746939560850871\n",
      "Final Accuracy (threshold 0.5): 0.844215\n"
     ]
    }
   ],
   "source": [
    "# Cell 9 - retrain best model on full train set (if randomized search done)\n",
    "try:\n",
    "    final_model = best_model\n",
    "except NameError:\n",
    "    final_model = model  # fallback to baseline if no tuning performed\n",
    "\n",
    "print(\"Retraining final model (fit on X_train)...\")\n",
    "final_model.fit(X_train, y_train)\n",
    "\n",
    "# Evaluate\n",
    "y_proba = final_model.predict_proba(X_test)[:, 1]\n",
    "print(\"Final AUC:\", roc_auc_score(y_test, y_proba))\n",
    "print(\"Final LogLoss:\", log_loss(y_test, y_proba))\n",
    "print(\"Final Accuracy (threshold 0.5):\", accuracy_score(y_test, (y_proba > 0.5).astype(int)))\n"
   ]
  },
  {
   "cell_type": "code",
   "execution_count": 21,
   "id": "ed51fc04-7759-4f17-a872-924d9569b217",
   "metadata": {},
   "outputs": [
    {
     "name": "stdout",
     "output_type": "stream",
     "text": [
      "Saved model to: ../backend\\ctr_model.pkl\n",
      "Saved feature order to: ../backend\\feature_order.joblib\n"
     ]
    }
   ],
   "source": [
    "# Cell 10 - save trained model and feature order\n",
    "MODEL_PATH = os.path.join(OUT_DIR, \"ctr_model.pkl\")\n",
    "joblib.dump(final_model, MODEL_PATH)\n",
    "joblib.dump(features, os.path.join(OUT_DIR, \"feature_order.joblib\"))\n",
    "print(\"Saved model to:\", MODEL_PATH)\n",
    "print(\"Saved feature order to:\", os.path.join(OUT_DIR, \"feature_order.joblib\"))\n"
   ]
  },
  {
   "cell_type": "code",
   "execution_count": null,
   "id": "95039da8-bfd8-41e5-b926-65742c7d1b4a",
   "metadata": {},
   "outputs": [],
   "source": []
  }
 ],
 "metadata": {
  "kernelspec": {
   "display_name": "Python 3 (ipykernel)",
   "language": "python",
   "name": "python3"
  },
  "language_info": {
   "codemirror_mode": {
    "name": "ipython",
    "version": 3
   },
   "file_extension": ".py",
   "mimetype": "text/x-python",
   "name": "python",
   "nbconvert_exporter": "python",
   "pygments_lexer": "ipython3",
   "version": "3.13.5"
  }
 },
 "nbformat": 4,
 "nbformat_minor": 5
}
